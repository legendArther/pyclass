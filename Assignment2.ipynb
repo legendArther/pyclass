{
 "cells": [
  {
   "cell_type": "markdown",
   "id": "fb0816c3",
   "metadata": {},
   "source": [
    "# ASSIGNMENT - 2"
   ]
  },
  {
   "cell_type": "markdown",
   "id": "ebef9c40",
   "metadata": {},
   "source": [
    "TASK 1: BASIC FUNCTION IMPLEMENTATION\n",
    "Write a function greet that takes two arguments: name (a string) and greeting (a string with a default value of \"Hello\"). The function should return a greeting message."
   ]
  },
  {
   "cell_type": "code",
   "execution_count": 12,
   "id": "909d357e",
   "metadata": {},
   "outputs": [
    {
     "name": "stdout",
     "output_type": "stream",
     "text": [
      "Hello Alice\n",
      "Good morning Bob\n"
     ]
    }
   ],
   "source": [
    "#creating a function as greet\n",
    "def greet(name,greeting = \"Hello\"): #variable greeting have a default value \"Hello\"\n",
    "    print(f\"{greeting} {name}\") #using string formatting\n",
    "    \n",
    "greet(\"aditya\")\n",
    "greet(\"harshdeep\",\"Good morning\")"
   ]
  },
  {
   "cell_type": "markdown",
   "id": "bacab3e7",
   "metadata": {},
   "source": [
    "TASK 2: NAMED ARGUEMENT\n",
    "Create a function create_profile that takes arguments for name, age, and city as named arguments. The function should return a string like \"Name: Alice, Age: 25, City: New York\". Ensure that the age argument has a default value of 18."
   ]
  },
  {
   "cell_type": "code",
   "execution_count": 11,
   "id": "66f9089c",
   "metadata": {},
   "outputs": [
    {
     "name": "stdout",
     "output_type": "stream",
     "text": [
      "Name: John, Age: 18, City: Chicago\n",
      "Name: Emma, Age: 22, City: Los Angeles\n"
     ]
    }
   ],
   "source": [
    "#creating a function name as create_profile\n",
    "def create_profile(name , city, age = 18): #age variable stores a default value 18\n",
    "    print(f\"Name: {name}, Age: {age}, City: {city}\" )\n",
    "    \n",
    "create_profile(name =\"will\", city = \"tokyo\")\n",
    "create_profile(name=\"justin\", age=22, city=\"detroit\")"
   ]
  },
  {
   "cell_type": "markdown",
   "id": "ea5ff039",
   "metadata": {},
   "source": [
    "TASK 3: Using args and kwargs\n",
    "Write a function sum_numbers that takes any number of positional arguments (args) and keyword arguments (*kwargs). It should:\n",
    "Return the sum of all *args if they are numbers.\n",
    "Return a dictionary of all keyword arguments."
   ]
  },
  {
   "cell_type": "code",
   "execution_count": 16,
   "id": "fa1037a1",
   "metadata": {},
   "outputs": [
    {
     "name": "stdout",
     "output_type": "stream",
     "text": [
      "6\n",
      "(3, {'x': 4, 'y': 5})\n"
     ]
    }
   ],
   "source": [
    "#creating a function \"sum_numbers\"\n",
    "def sum_numbers(*args, **kwargs):\n",
    "    # Filter and sum positional arguments that are numbers\n",
    "    totalSum = sum(arg for arg in args if isinstance(arg, (int, float)))\n",
    "    \n",
    "    # Return only the sum if no keyword arguments are passed\n",
    "    if not kwargs:\n",
    "        return totalSum\n",
    "    \n",
    "    # Return the sum and the dictionary of keyword arguments if any\n",
    "    return totalSum, kwargs\n",
    "\n",
    "print(sum_numbers(1, 2, 3))             \n",
    "print(sum_numbers(1, 2, x=4, y=5))"
   ]
  },
  {
   "cell_type": "markdown",
   "id": "b5c9a504",
   "metadata": {},
   "source": [
    "TASK 4: LAMBDAS AND MAP:\n",
    "Write a function that uses map and a lambda to return a list where each element is squared."
   ]
  },
  {
   "cell_type": "code",
   "execution_count": 29,
   "id": "0c6ce0de",
   "metadata": {},
   "outputs": [
    {
     "data": {
      "text/plain": [
       "[1, 4, 9, 16]"
      ]
     },
     "execution_count": 29,
     "metadata": {},
     "output_type": "execute_result"
    }
   ],
   "source": [
    "def square_list(numbers):\n",
    "    squares= map(lambda x: x**2, numbers) #squaring the numbers present in the list\n",
    "    return list(squares) #returning the squares of the number where the function was called\n",
    "\n",
    "square_list([1, 2, 3, 4])"
   ]
  },
  {
   "cell_type": "markdown",
   "id": "d5112737",
   "metadata": {},
   "source": [
    "TASK 5: FILTER AND LAMBDAS:\n",
    "Write a function that filters out all odd numbers from a list using filter and a lambda function."
   ]
  },
  {
   "cell_type": "code",
   "execution_count": 27,
   "id": "acd1f5da",
   "metadata": {},
   "outputs": [
    {
     "data": {
      "text/plain": [
       "[2, 4]"
      ]
     },
     "execution_count": 27,
     "metadata": {},
     "output_type": "execute_result"
    }
   ],
   "source": [
    "#creating a function that takes list as an arguement\n",
    "def filter_odd_numbers(numbers):\n",
    "    odd_numbers = filter(lambda x: x%2 == 0, numbers) #checking whether the number in numbers are divisible by 2\n",
    "    return list(odd_numbers)\n",
    "\n",
    "filter_odd_numbers([1,2,3,4,5])"
   ]
  },
  {
   "cell_type": "markdown",
   "id": "9560dbaf",
   "metadata": {},
   "source": [
    "TASK 6: BASIC LIST COMPREHENSION:\n",
    "Create a list comprehension that takes a list of numbers and returns a list of their squares."
   ]
  },
  {
   "cell_type": "code",
   "execution_count": 30,
   "id": "bf00e9e1",
   "metadata": {},
   "outputs": [
    {
     "name": "stdout",
     "output_type": "stream",
     "text": [
      "[0, 1, 4, 9, 16]\n"
     ]
    }
   ],
   "source": [
    "squares = [x**2 for x in range(5)]\n",
    "print(squares)"
   ]
  },
  {
   "cell_type": "markdown",
   "id": "1bf3b2e7",
   "metadata": {},
   "source": [
    "TASK 7: LIST COMPREHENSION WITH CONDITION:\n",
    "Use a list comprehension to create a list of even numbers from 1 to 20."
   ]
  },
  {
   "cell_type": "code",
   "execution_count": 35,
   "id": "3ca1abe1",
   "metadata": {},
   "outputs": [
    {
     "name": "stdout",
     "output_type": "stream",
     "text": [
      "[2, 4, 6, 8, 10, 12, 14, 16, 18, 20]\n"
     ]
    }
   ],
   "source": [
    "evenNumbers = [x for x in range(1,21) if x%2 == 0]\n",
    "print(list(evenNumbers))"
   ]
  },
  {
   "cell_type": "markdown",
   "id": "0e0d0165",
   "metadata": {},
   "source": [
    "TASK 8: USING OS AND TIME MODULES:\n",
    "Write a function file_operations that creates a directory named \"test_folder\" using os.makedirs(). Then, pause the execution for 3 seconds using time.sleep(), and finally, delete the directory using os.rmdir()."
   ]
  },
  {
   "cell_type": "code",
   "execution_count": 45,
   "id": "9cc14ade",
   "metadata": {},
   "outputs": [],
   "source": [
    "#importing time and os modules\n",
    "import os\n",
    "import time\n",
    "\n",
    "#creating non parametrized function, file_operations\n",
    "def file_operations():\n",
    "    \n",
    "    #creating a new directory\n",
    "    os.makedirs(\"test_folder\") #cretaed a directory named as test_folder\n",
    "    \n",
    "    time.sleep(3) #using sleep function from time module to stop the execution for 3 sec\n",
    "    \n",
    "    #removing a directory\n",
    "    os.rmdir(\"test_folder\")\n",
    "    \n",
    "file_operations()"
   ]
  },
  {
   "cell_type": "markdown",
   "id": "9751ba59",
   "metadata": {},
   "source": [
    "TASK 9: IMPORTING SPECIFIC FUNCTIONS:\n",
    "Write a Python script that imports only sleep from the time module and renames it to pause. Use it to pause execution for 2 seconds and print \"Paused execution...\".\n",
    "\n"
   ]
  },
  {
   "cell_type": "code",
   "execution_count": 47,
   "id": "58612b4b",
   "metadata": {},
   "outputs": [
    {
     "name": "stdout",
     "output_type": "stream",
     "text": [
      "Paused execution...\n"
     ]
    }
   ],
   "source": [
    "#importing the function, sleep from time module and rename as pause\n",
    "from time import sleep as pause \n",
    "pause(2) #pauses the execution for 2 sec\n",
    "print(\"Paused execution...\")"
   ]
  },
  {
   "cell_type": "markdown",
   "id": "29125a95",
   "metadata": {},
   "source": [
    "TASK 10: RECURSIVE FUNCTION WITH *ARGS and KWARGS (Flattening a List):\n",
    "Write a recursive function flatten_list that can flatten a nested list of any depth using *args and **kwargs.\n",
    "\n"
   ]
  },
  {
   "cell_type": "markdown",
   "id": "b0f072df",
   "metadata": {},
   "source": [
    "Explanation:\n",
    "Flattening a list means converting a nested list into a single-level list. If the list contains sub-lists, we recursively traverse them and extract their elements to form one flat list."
   ]
  },
  {
   "cell_type": "code",
   "execution_count": 51,
   "id": "6cf3cd0d",
   "metadata": {},
   "outputs": [
    {
     "name": "stdout",
     "output_type": "stream",
     "text": [
      "[1, 2, 3, 4, 5, 6]\n",
      "[1, 2, 3, 4, 5]\n"
     ]
    }
   ],
   "source": [
    "#creating a function that converts nested list into simple list\n",
    "def flatten_list(*args, **kwargs):\n",
    "    #uses *args to handle any number of arguments\n",
    "    flatten = []#creating an empty list\n",
    "    \n",
    "    for item in args:\n",
    "        if isinstance(item, list): #cheking whether each element is a list or a simple number\n",
    "            flatten.extend(flatten_list(*item, *kwargs))\n",
    "            \n",
    "        else:\n",
    "            flatten.append(item) #directly adding the element in the list if its not a list\n",
    "            \n",
    "    return flatten\n",
    "\n",
    "print(flatten_list([1, [2, 3], [[4, 5], 6]]))\n",
    "print(flatten_list([[1, 2], [3, [4, [5]]]]))\n"
   ]
  },
  {
   "cell_type": "code",
   "execution_count": null,
   "id": "4215f67e",
   "metadata": {},
   "outputs": [],
   "source": []
  }
 ],
 "metadata": {
  "kernelspec": {
   "display_name": "Python 3 (ipykernel)",
   "language": "python",
   "name": "python3"
  },
  "language_info": {
   "codemirror_mode": {
    "name": "ipython",
    "version": 3
   },
   "file_extension": ".py",
   "mimetype": "text/x-python",
   "name": "python",
   "nbconvert_exporter": "python",
   "pygments_lexer": "ipython3",
   "version": "3.9.13"
  }
 },
 "nbformat": 4,
 "nbformat_minor": 5
}
