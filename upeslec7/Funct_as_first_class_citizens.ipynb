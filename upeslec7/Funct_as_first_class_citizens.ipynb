{
 "cells": [
  {
   "cell_type": "markdown",
   "id": "9c9e8ba6",
   "metadata": {},
   "source": [
    "# FUNCTIONS AS FIRST CLASS CITIZEN"
   ]
  },
  {
   "cell_type": "markdown",
   "id": "f8b0bef1",
   "metadata": {},
   "source": [
    "This means that we can assign function as the variables and can pass as the arguement in other functions"
   ]
  },
  {
   "cell_type": "code",
   "execution_count": 2,
   "id": "22f86a7f",
   "metadata": {},
   "outputs": [
    {
     "name": "stdout",
     "output_type": "stream",
     "text": [
      "25\n",
      "49\n"
     ]
    }
   ],
   "source": [
    "def square(x):\n",
    "    return x*x \n",
    "\n",
    "def apply_function(func, value): #in this function there are two arguements one is the other function and other is the variable\n",
    "    return func(value)\n",
    "\n",
    "result = square(5)\n",
    "print(result)\n",
    "\n",
    "result2 = apply_function(square, 7)\n",
    "print(result2)"
   ]
  },
  {
   "cell_type": "code",
   "execution_count": null,
   "id": "162c47d4",
   "metadata": {},
   "outputs": [],
   "source": []
  }
 ],
 "metadata": {
  "kernelspec": {
   "display_name": "Python 3 (ipykernel)",
   "language": "python",
   "name": "python3"
  },
  "language_info": {
   "codemirror_mode": {
    "name": "ipython",
    "version": 3
   },
   "file_extension": ".py",
   "mimetype": "text/x-python",
   "name": "python",
   "nbconvert_exporter": "python",
   "pygments_lexer": "ipython3",
   "version": "3.9.13"
  }
 },
 "nbformat": 4,
 "nbformat_minor": 5
}
