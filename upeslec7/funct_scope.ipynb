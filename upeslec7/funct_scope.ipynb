{
 "cells": [
  {
   "cell_type": "markdown",
   "id": "ceb803dd",
   "metadata": {},
   "source": [
    "# LECTURE 7"
   ]
  },
  {
   "cell_type": "code",
   "execution_count": 21,
   "id": "f880d249",
   "metadata": {},
   "outputs": [
    {
     "name": "stdout",
     "output_type": "stream",
     "text": [
      "30\n",
      "20\n",
      "10\n"
     ]
    }
   ],
   "source": [
    "x = 10  # Global variable can be accessed anywhere in the python script\n",
    "\n",
    "#defining a function as outer_function\n",
    "def outer_function():\n",
    "    # print(f\"The value of x in outer_function is: {x}\") #output will be 5\n",
    "    x = 20  # Enclosing variable\n",
    "    # print(f\"The value of x after declaring an enclosing variable is : {x}\")\n",
    "    \n",
    "    def inner_function():\n",
    "        x = 30  # Local variable\n",
    "        print(x)  # Output: 30\n",
    "    inner_function()\n",
    "    print(x)  # Output: 20\n",
    "    \n",
    "outer_function()\n",
    "print(x)"
   ]
  },
  {
   "cell_type": "code",
   "execution_count": null,
   "id": "0b283ff0",
   "metadata": {},
   "outputs": [],
   "source": []
  }
 ],
 "metadata": {
  "kernelspec": {
   "display_name": "Python 3 (ipykernel)",
   "language": "python",
   "name": "python3"
  },
  "language_info": {
   "codemirror_mode": {
    "name": "ipython",
    "version": 3
   },
   "file_extension": ".py",
   "mimetype": "text/x-python",
   "name": "python",
   "nbconvert_exporter": "python",
   "pygments_lexer": "ipython3",
   "version": "3.9.13"
  }
 },
 "nbformat": 4,
 "nbformat_minor": 5
}
