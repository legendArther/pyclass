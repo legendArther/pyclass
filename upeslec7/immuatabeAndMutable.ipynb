{
 "cells": [
  {
   "cell_type": "code",
   "execution_count": 9,
   "id": "90a05787",
   "metadata": {},
   "outputs": [
    {
     "name": "stdout",
     "output_type": "stream",
     "text": [
      "The value of x after calling the modify immutable function: 36\n",
      "The value of x outside the modify immutable function: 9\n"
     ]
    }
   ],
   "source": [
    "#Behaviour of mutable and immutable arguement\n",
    "#modifying immutable datatype\n",
    "def modify_immutable(x):\n",
    "    x = x*4\n",
    "    print(f\"The value of x after calling the modify immutable function: {x}\")\n",
    "x = 9\n",
    "modify_immutable(x)\n",
    "print(f\"The value of x outside the modify immutable function: {x}\")"
   ]
  },
  {
   "cell_type": "code",
   "execution_count": 12,
   "id": "c0ff7fa6",
   "metadata": {},
   "outputs": [
    {
     "name": "stdout",
     "output_type": "stream",
     "text": [
      "List before calling the function:  [1, 34, 53, 23, 65]\n",
      "List inside the function:  [1, 34, 53, 23, 65, 23]\n",
      "List outside the function:  [1, 34, 53, 23, 65, 23]\n"
     ]
    }
   ],
   "source": [
    "#modifying mutable datatype\n",
    "def modify_mutable(list):\n",
    "    list.append(23)\n",
    "    print(\"List inside the function: \",list)\n",
    "    \n",
    "List = [1,34,53,23,65]\n",
    "print(\"List before calling the function: \",List)\n",
    "modify_mutable(List)\n",
    "print(\"List outside the function: \",List)\n"
   ]
  },
  {
   "cell_type": "code",
   "execution_count": null,
   "id": "b43fcc59",
   "metadata": {},
   "outputs": [],
   "source": []
  }
 ],
 "metadata": {
  "kernelspec": {
   "display_name": "Python 3 (ipykernel)",
   "language": "python",
   "name": "python3"
  },
  "language_info": {
   "codemirror_mode": {
    "name": "ipython",
    "version": 3
   },
   "file_extension": ".py",
   "mimetype": "text/x-python",
   "name": "python",
   "nbconvert_exporter": "python",
   "pygments_lexer": "ipython3",
   "version": "3.9.13"
  }
 },
 "nbformat": 4,
 "nbformat_minor": 5
}
