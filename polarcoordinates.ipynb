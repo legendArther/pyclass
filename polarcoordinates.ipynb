{
 "cells": [
  {
   "cell_type": "markdown",
   "id": "6d59a7e2",
   "metadata": {},
   "source": [
    "# DATE : 08.10.24 Problem 1"
   ]
  },
  {
   "cell_type": "markdown",
   "id": "2d3bbbee",
   "metadata": {},
   "source": [
    "we are given 2D coordinates of following points (0,1), (2,4), (3,6), and (7,7).\n",
    "\n",
    "Store following data in python and write a function to determint distance between two points.\n",
    "Write a function to estimate polar coordinate of any point.\n",
    "Write a function that moves point and determines new position when movement is given"
   ]
  },
  {
   "cell_type": "code",
   "execution_count": 1,
   "id": "1659ea01",
   "metadata": {},
   "outputs": [
    {
     "name": "stdout",
     "output_type": "stream",
     "text": [
      "Hi\n"
     ]
    }
   ],
   "source": [
    "print(\"Hi\")"
   ]
  },
  {
   "cell_type": "code",
   "execution_count": 87,
   "id": "fb1e951a",
   "metadata": {},
   "outputs": [],
   "source": [
    "import math\n",
    "def cal_distance(point1,point2):\n",
    "    x1,y1 = point1\n",
    "    x2, y2 = point2\n",
    "\n",
    "    euclidean_distance = (x2-x1)**2 + (y2-y1)**2\n",
    "    print(\"Points : \", point1,point2)\n",
    "    print(\"Euclidean Distance : \",euclidean_distance)\n",
    "    \n",
    "\n",
    "def cal_polarcoordinates(point1):\n",
    "    x,y= point1\n",
    "    print(point1)\n",
    "    polarCoordinates = math.sqrt(x**2 + y**2)\n",
    "    print(polarCoordinates)\n",
    "    theta = math.atan2(y, x)\n",
    "    print(\"Theta : \", theta)\n",
    "\n",
    "def move_point(point, movement):\n",
    "    x,y = point\n",
    "    dx,dy = movement\n",
    "    newX = x+dx\n",
    "    newY = y+dy\n",
    "    newPoint = newX, newY\n",
    "    print(\"New coordinate: \",newPoint)"
   ]
  },
  {
   "cell_type": "code",
   "execution_count": 85,
   "id": "d376d9e3",
   "metadata": {},
   "outputs": [
    {
     "name": "stdout",
     "output_type": "stream",
     "text": [
      "Points :  (0, 1) (2, 4)\n",
      "Euclidean Distance :  13\n",
      "Points :  (0, 1) (3, 6)\n",
      "Euclidean Distance :  34\n",
      "Points :  (0, 1) (7, 7)\n",
      "Euclidean Distance :  85\n",
      "Points :  (2, 4) (3, 6)\n",
      "Euclidean Distance :  5\n",
      "Points :  (2, 4) (7, 7)\n",
      "Euclidean Distance :  34\n",
      "Points :  (3, 6) (7, 7)\n",
      "Euclidean Distance :  17\n"
     ]
    }
   ],
   "source": [
    "points = [(0,1), (2,4), (3,6),(7,7)]\n",
    "for i in range(0,4):\n",
    "    for j in range(i+1,4):\n",
    "        cal_distance(points[i], points[j])"
   ]
  },
  {
   "cell_type": "code",
   "execution_count": 86,
   "id": "74ed9e7e",
   "metadata": {},
   "outputs": [
    {
     "name": "stdout",
     "output_type": "stream",
     "text": [
      "(0, 1)\n",
      "1.0\n",
      "Theta :  1.5707963267948966\n",
      "(2, 4)\n",
      "4.47213595499958\n",
      "Theta :  1.1071487177940904\n",
      "(3, 6)\n",
      "6.708203932499369\n",
      "Theta :  1.1071487177940904\n",
      "(7, 7)\n",
      "9.899494936611665\n",
      "Theta :  0.7853981633974483\n"
     ]
    }
   ],
   "source": [
    "for i in range(0,4):\n",
    "        cal_polarcoordinates(points[i])"
   ]
  },
  {
   "cell_type": "code",
   "execution_count": 89,
   "id": "cf89f927",
   "metadata": {},
   "outputs": [
    {
     "name": "stdout",
     "output_type": "stream",
     "text": [
      "New coordinate:  (2, 7)\n",
      "New coordinate:  (4, 10)\n",
      "New coordinate:  (5, 12)\n",
      "New coordinate:  (9, 13)\n"
     ]
    }
   ],
   "source": [
    " for i in range(0,4):\n",
    "        move_point(points[i], (2,6))"
   ]
  },
  {
   "cell_type": "code",
   "execution_count": null,
   "id": "f8c848ad",
   "metadata": {},
   "outputs": [],
   "source": []
  }
 ],
 "metadata": {
  "kernelspec": {
   "display_name": "Python 3 (ipykernel)",
   "language": "python",
   "name": "python3"
  },
  "language_info": {
   "codemirror_mode": {
    "name": "ipython",
    "version": 3
   },
   "file_extension": ".py",
   "mimetype": "text/x-python",
   "name": "python",
   "nbconvert_exporter": "python",
   "pygments_lexer": "ipython3",
   "version": "3.9.13"
  }
 },
 "nbformat": 4,
 "nbformat_minor": 5
}
