{
 "cells": [
  {
   "cell_type": "code",
   "execution_count": 3,
   "id": "0a588c74",
   "metadata": {},
   "outputs": [],
   "source": [
    "import os"
   ]
  },
  {
   "cell_type": "code",
   "execution_count": 7,
   "id": "e6f20d34",
   "metadata": {},
   "outputs": [
    {
     "data": {
      "text/plain": [
       "['1.py',\n",
       " 'assignment',\n",
       " 'functionscope.py',\n",
       " 'hello.py',\n",
       " 'python_assignment1.ipynb',\n",
       " 'python_upes3.ipynb']"
      ]
     },
     "execution_count": 7,
     "metadata": {},
     "output_type": "execute_result"
    }
   ],
   "source": [
    "address = r\"C:\\Users\\Kumkum\\upes assignments\\python\"\n",
    "list_of_files = os.listdir(address)\n",
    "list_of_files"
   ]
  },
  {
   "cell_type": "code",
   "execution_count": 11,
   "id": "c0a097f1",
   "metadata": {},
   "outputs": [
    {
     "data": {
      "text/plain": [
       "['Abraham Silberschatz-Operating System Concepts (9th,2012_12).pdf',\n",
       " 'picc.jpg',\n",
       " 'Screenshot 2024-02-13 231739.png',\n",
       " 'Screenshot 2024-03-05 213709.png',\n",
       " '~$choring script.docx']"
      ]
     },
     "execution_count": 11,
     "metadata": {},
     "output_type": "execute_result"
    }
   ],
   "source": [
    "#write a  program taht takes directory address from user and  organise file in to the following foilders\n",
    "\n",
    "Address = r\"C:\\Users\\Kumkum\\aivaay\"\n",
    "list_of_files = os.listdir(Address)\n",
    "list_of_files\n"
   ]
  },
  {
   "cell_type": "code",
   "execution_count": 12,
   "id": "b84d71f7",
   "metadata": {},
   "outputs": [],
   "source": [
    "os.chdir(Address)"
   ]
  },
  {
   "cell_type": "code",
   "execution_count": 13,
   "id": "f891363b",
   "metadata": {},
   "outputs": [
    {
     "name": "stdout",
     "output_type": "stream",
     "text": [
      "1\n"
     ]
    }
   ],
   "source": [
    "cmd = \"pwd\"\n",
    "print(os.system(cmd))"
   ]
  },
  {
   "cell_type": "code",
   "execution_count": null,
   "id": "f0bf56b2",
   "metadata": {},
   "outputs": [],
   "source": [
    "folders = \"Images, Videos, Documents\".split(\",\")\n",
    "for f in folders:\n",
    "    cmd = f\"mkdir{f}"
   ]
  }
 ],
 "metadata": {
  "kernelspec": {
   "display_name": "Python 3 (ipykernel)",
   "language": "python",
   "name": "python3"
  },
  "language_info": {
   "codemirror_mode": {
    "name": "ipython",
    "version": 3
   },
   "file_extension": ".py",
   "mimetype": "text/x-python",
   "name": "python",
   "nbconvert_exporter": "python",
   "pygments_lexer": "ipython3",
   "version": "3.9.13"
  }
 },
 "nbformat": 4,
 "nbformat_minor": 5
}
